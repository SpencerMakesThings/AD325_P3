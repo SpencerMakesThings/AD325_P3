{
 "cells": [
  {
   "cell_type": "markdown",
   "metadata": {},
   "source": [
    "## ~main~"
   ]
  },
  {
   "cell_type": "code",
   "execution_count": null,
   "metadata": {},
   "outputs": [
    {
     "name": "stdout",
     "output_type": "stream",
     "text": [
      "Patient ID:        5\n",
      "Name:              Tony Stark\n",
      "Age:               60\n",
      "Diagnosis:         Arthritis\n",
      "Blood Pressure:    1.6025641025641026\n",
      "Pulse:             72\n",
      "Body Temperature:  36.7\n",
      " \n",
      "Patient ID:        10\n",
      "Name:              Professor X\n",
      "Age:               29\n",
      "Diagnosis:         Pneumonia\n",
      "Blood Pressure:    1.5294117647058822\n",
      "Pulse:             75\n",
      "Body Temperature:  37.3\n",
      " \n",
      "Patient ID:        17\n",
      "Name:              Steve Rogers\n",
      "Age:               55\n",
      "Diagnosis:         Heart Disease\n",
      "Blood Pressure:    1.576086956521739\n",
      "Pulse:             82\n",
      "Body Temperature:  36.7\n",
      " \n"
     ]
    }
   ],
   "source": [
    "# runs all of our stuff\n",
    "# adds and removes and displays\n",
    "\n",
    "# from patient_record_mgmt import PatientRecordManagementSystem\n",
    "import patient_record_mgmt\n",
    "\n",
    "def main():\n",
    "    PRMS = patient_record_mgmt.PatientRecordManagementSystem()\n",
    "\n",
    "    #PRMS.add_patient_record(10,'Professor X',29,'Pneumonia',130/85,75,37.3)\n",
    "    #PRMS.add_patient_record(5,'Tony Stark',60,'Arthritis',125/78,72,36.7)\n",
    "    #PRMS.add_patient_record(17,'Steve Rogers',55,'Heart Disease',145/92,82,36.7)\n",
    "    file_path = \"./data/patient_records.csv\"\n",
    "    PRMS.build_tree_from_csv(file_path)\n",
    "\n",
    "    PRMS.display_all_records()\n",
    "\n",
    "if __name__ == \"__main__\":\n",
    "    main()"
   ]
  }
 ],
 "metadata": {
  "kernelspec": {
   "display_name": "base",
   "language": "python",
   "name": "python3"
  },
  "language_info": {
   "codemirror_mode": {
    "name": "ipython",
    "version": 3
   },
   "file_extension": ".py",
   "mimetype": "text/x-python",
   "name": "python",
   "nbconvert_exporter": "python",
   "pygments_lexer": "ipython3",
   "version": "3.12.3"
  }
 },
 "nbformat": 4,
 "nbformat_minor": 2
}
