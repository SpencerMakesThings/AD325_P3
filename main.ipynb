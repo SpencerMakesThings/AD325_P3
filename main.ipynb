{
 "cells": [
  {
   "cell_type": "markdown",
   "metadata": {},
   "source": [
    "## ~main~"
   ]
  },
  {
   "cell_type": "code",
   "execution_count": 38,
   "metadata": {},
   "outputs": [
    {
     "ename": "TypeError",
     "evalue": "BinarySearchTree.inorder_traversal() missing 1 required positional argument: 'node'",
     "output_type": "error",
     "traceback": [
      "\u001b[1;31m---------------------------------------------------------------------------\u001b[0m",
      "\u001b[1;31mTypeError\u001b[0m                                 Traceback (most recent call last)",
      "Cell \u001b[1;32mIn[38], line 17\u001b[0m\n\u001b[0;32m     14\u001b[0m     PRMS\u001b[38;5;241m.\u001b[39mdisplay_all_records()\n\u001b[0;32m     16\u001b[0m \u001b[38;5;28;01mif\u001b[39;00m \u001b[38;5;18m__name__\u001b[39m \u001b[38;5;241m==\u001b[39m \u001b[38;5;124m\"\u001b[39m\u001b[38;5;124m__main__\u001b[39m\u001b[38;5;124m\"\u001b[39m:\n\u001b[1;32m---> 17\u001b[0m     main()\n",
      "Cell \u001b[1;32mIn[38], line 14\u001b[0m, in \u001b[0;36mmain\u001b[1;34m()\u001b[0m\n\u001b[0;32m     11\u001b[0m PRMS\u001b[38;5;241m.\u001b[39madd_patient_record(\u001b[38;5;241m5\u001b[39m,\u001b[38;5;124m'\u001b[39m\u001b[38;5;124mTony Stark\u001b[39m\u001b[38;5;124m'\u001b[39m,\u001b[38;5;241m60\u001b[39m,\u001b[38;5;124m'\u001b[39m\u001b[38;5;124mArthritis\u001b[39m\u001b[38;5;124m'\u001b[39m,\u001b[38;5;241m125\u001b[39m\u001b[38;5;241m/\u001b[39m\u001b[38;5;241m78\u001b[39m,\u001b[38;5;241m72\u001b[39m,\u001b[38;5;241m36.7\u001b[39m)\n\u001b[0;32m     12\u001b[0m PRMS\u001b[38;5;241m.\u001b[39madd_patient_record(\u001b[38;5;241m17\u001b[39m,\u001b[38;5;124m'\u001b[39m\u001b[38;5;124mSteve Rogers\u001b[39m\u001b[38;5;124m'\u001b[39m,\u001b[38;5;241m55\u001b[39m,\u001b[38;5;124m'\u001b[39m\u001b[38;5;124mHeart Disease\u001b[39m\u001b[38;5;124m'\u001b[39m,\u001b[38;5;241m145\u001b[39m\u001b[38;5;241m/\u001b[39m\u001b[38;5;241m92\u001b[39m,\u001b[38;5;241m82\u001b[39m,\u001b[38;5;241m36.7\u001b[39m)\n\u001b[1;32m---> 14\u001b[0m PRMS\u001b[38;5;241m.\u001b[39mdisplay_all_records()\n",
      "File \u001b[1;32mc:\\Users\\Boogie_Black\\Desktop\\Stuff\\New School Stuff\\02 Coursework\\Q1, 2024\\CSDS 325\\00 Repos n Stuff\\AD325_projects\\P3\\patient_record_mgmt.py:75\u001b[0m, in \u001b[0;36mdisplay_all_records\u001b[1;34m(self)\u001b[0m\n\u001b[0;32m     69\u001b[0m     self.bst.remove(patient_id)\n\u001b[0;32m     70\u001b[0m     self.node_count -= 1\n\u001b[0;32m     73\u001b[0m def display_all_records(self):\n\u001b[0;32m     74\u001b[0m     # traverse in order\n\u001b[1;32m---> 75\u001b[0m     # print each patient record\n\u001b[0;32m     76\u001b[0m     inorder_list = self.bst.inorder_traversal()\n\u001b[0;32m     78\u001b[0m     for i in inorder_list:\n",
      "\u001b[1;31mTypeError\u001b[0m: BinarySearchTree.inorder_traversal() missing 1 required positional argument: 'node'"
     ]
    }
   ],
   "source": [
    "# runs all of our stuff\n",
    "# adds and removes and displays\n",
    "\n",
    "# from patient_record_mgmt import PatientRecordManagementSystem\n",
    "import patient_record_mgmt\n",
    "\n",
    "def main():\n",
    "    PRMS = patient_record_mgmt.PatientRecordManagementSystem()\n",
    "\n",
    "    PRMS.add_patient_record(10,'Professor X',29,'Pneumonia',130/85,75,37.3)\n",
    "    PRMS.add_patient_record(5,'Tony Stark',60,'Arthritis',125/78,72,36.7)\n",
    "    PRMS.add_patient_record(17,'Steve Rogers',55,'Heart Disease',145/92,82,36.7)\n",
    "\n",
    "    PRMS.display_all_records()\n",
    "\n",
    "if __name__ == \"__main__\":\n",
    "    main()"
   ]
  }
 ],
 "metadata": {
  "kernelspec": {
   "display_name": "base",
   "language": "python",
   "name": "python3"
  },
  "language_info": {
   "codemirror_mode": {
    "name": "ipython",
    "version": 3
   },
   "file_extension": ".py",
   "mimetype": "text/x-python",
   "name": "python",
   "nbconvert_exporter": "python",
   "pygments_lexer": "ipython3",
   "version": "3.12.3"
  }
 },
 "nbformat": 4,
 "nbformat_minor": 2
}
