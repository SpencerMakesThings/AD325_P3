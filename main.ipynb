{
 "cells": [
  {
   "cell_type": "markdown",
   "metadata": {},
   "source": [
    "## ~main~"
   ]
  },
  {
   "cell_type": "code",
   "execution_count": null,
   "metadata": {},
   "outputs": [
    {
     "name": "stdout",
     "output_type": "stream",
     "text": [
      "1 Peter Parker 35 Flu 120/80 70 37.0\n",
      "3 Clint Barton 45 Hypertension 140/90 80 36.9\n",
      "5 Tony Stark 60 Arthritis 125/78 72 36.7\n",
      "6 Natasha Romanoff 32 Cold 115/75 68 37.1\n",
      "7 Scott Lang 47 Cancer 135/88 77 37.0\n",
      "8 Drax 55 Heart Disease 145/92 82 36.8\n",
      "9 Wade Wilson 40 Flu 120/80 70 36.9\n",
      "10 Professor X 29 Pneumonia 130/85 75 37.3\n",
      "11 James Rhodes 65 Diabetes 140/90 80 37.0\n",
      "12 Carol Danvers 38 Hypertension 110/70 65 36.9\n",
      "15 Thor Odinson 35 Cold 115/75 68 37.0\n",
      "16 Mantis 28 Cancer 135/88 77 37.2\n",
      "17 Steve Rogers 55 Heart Disease 145/92 82 36.7\n",
      "19 Nebula 32 Pneumonia 120/80 70 36.8\n",
      "20 Vision 40 Diabetes 140/90 80 37.3\n",
      "22 Pepper Potts 38 Asthma 120/80 70 36.9\n",
      "23 Bruce Banner 50 Arthritis 125/78 72 37.1\n",
      "24 Maria Hill 45 Cold 115/75 68 36.8\n",
      "25 Natasha Romanoff 35 Cancer 135/88 77 37.0\n",
      "27 Stephen Strange 55 Flu 130/85 75 36.7\n",
      "28 Star-Lord 60 Pneumonia 120/80 70 37.1\n",
      "29 T'Challa 32 Diabetes 140/90 80 36.8\n",
      "30 Wanda Maximoff 40 Hypertension 110/70 65 37.3\n",
      "31 Rocket 65 Asthma 120/80 70 37.0\n",
      "36 Nick Fury 28 Flu 130/85 75 37.2\n",
      "39 Sam Wilson 32 Hypertension 110/70 65 36.8\n",
      "40 Bucky Barnes 40 Asthma 120/80 70 37.3\n",
      "41 Groot 65 Arthritis 125/78 72 37.0\n",
      "45 Loki Laufeyson 35 Flu 130/85 75 37.0\n",
      "50 Gamora 40 Arthritis 125/78 72 37.3\n"
     ]
    },
    {
     "ename": "AttributeError",
     "evalue": "'NoneType' object has no attribute 'safe_get_value'",
     "output_type": "error",
     "traceback": [
      "\u001b[1;31m---------------------------------------------------------------------------\u001b[0m",
      "\u001b[1;31mAttributeError\u001b[0m                            Traceback (most recent call last)",
      "Cell \u001b[1;32mIn[4], line 35\u001b[0m\n\u001b[0;32m     26\u001b[0m     \u001b[38;5;66;03m# Search for 2, 25, and 47. Print em\u001b[39;00m\n\u001b[0;32m     27\u001b[0m \n\u001b[0;32m     28\u001b[0m     \u001b[38;5;66;03m# delete 3, 10, and 30. Display all\u001b[39;00m\n\u001b[0;32m     34\u001b[0m \u001b[38;5;28;01mif\u001b[39;00m \u001b[38;5;18m__name__\u001b[39m \u001b[38;5;241m==\u001b[39m \u001b[38;5;124m\"\u001b[39m\u001b[38;5;124m__main__\u001b[39m\u001b[38;5;124m\"\u001b[39m:\n\u001b[1;32m---> 35\u001b[0m     main()\n",
      "Cell \u001b[1;32mIn[4], line 23\u001b[0m, in \u001b[0;36mmain\u001b[1;34m()\u001b[0m\n\u001b[0;32m     18\u001b[0m PRMS\u001b[38;5;241m.\u001b[39mdisplay_all_records()\n\u001b[0;32m     19\u001b[0m PRMS\u001b[38;5;241m.\u001b[39mvisualize_tree()\n\u001b[1;32m---> 23\u001b[0m \u001b[38;5;28mprint\u001b[39m(PRMS\u001b[38;5;241m.\u001b[39msearch_patient_record(\u001b[38;5;241m2\u001b[39m)\u001b[38;5;241m.\u001b[39msafe_get_value()\u001b[38;5;241m.\u001b[39mprint_patient_record())\n\u001b[0;32m     24\u001b[0m \u001b[38;5;28mprint\u001b[39m(PRMS\u001b[38;5;241m.\u001b[39msearch_patient_record(\u001b[38;5;241m3\u001b[39m)\u001b[38;5;241m.\u001b[39msafe_get_value()\u001b[38;5;241m.\u001b[39mprint_patient_record())\n",
      "\u001b[1;31mAttributeError\u001b[0m: 'NoneType' object has no attribute 'safe_get_value'"
     ]
    }
   ],
   "source": [
    "# runs all of our stuff\n",
    "# adds and removes and displays\n",
    "\n",
    "# from patient_record_mgmt import PatientRecordManagementSystem\n",
    "import patient_record_mgmt\n",
    "\n",
    "def main():\n",
    "    PRMS = patient_record_mgmt.PatientRecordManagementSystem()\n",
    "\n",
    "    # earlier testing stuff\n",
    "    #PRMS.add_patient_record(10,'Professor X',29,'Pneumonia',130/85,75,37.3)\n",
    "    #PRMS.add_patient_record(5,'Tony Stark',60,'Arthritis',125/78,72,36.7)\n",
    "    #PRMS.add_patient_record(17,'Steve Rogers',55,'Heart Disease',145/92,82,36.7)\n",
    "\n",
    "\n",
    "    file_path = \"./data/patient_records.csv\"\n",
    "    PRMS.build_tree_from_csv(file_path)\n",
    "    PRMS.display_all_records()\n",
    "    PRMS.visualize_tree()\n",
    "\n",
    "\n",
    "    \n",
    "    #print(PRMS.search_patient_record(2).safe_get_value().print_patient_record())\n",
    "    #print(PRMS.search_patient_record(3).safe_get_value().print_patient_record())\n",
    "\n",
    "    # Search for 2, 25, and 47. Print em\n",
    "\n",
    "    # delete 3, 10, and 30. Display all\n",
    "\n",
    "\n",
    "\n",
    "\n",
    "\n",
    "if __name__ == \"__main__\":\n",
    "    main()"
   ]
  }
 ],
 "metadata": {
  "kernelspec": {
   "display_name": "base",
   "language": "python",
   "name": "python3"
  },
  "language_info": {
   "codemirror_mode": {
    "name": "ipython",
    "version": 3
   },
   "file_extension": ".py",
   "mimetype": "text/x-python",
   "name": "python",
   "nbconvert_exporter": "python",
   "pygments_lexer": "ipython3",
   "version": "3.12.3"
  }
 },
 "nbformat": 4,
 "nbformat_minor": 2
}
